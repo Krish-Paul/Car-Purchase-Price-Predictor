{
 "cells": [
  {
   "cell_type": "markdown",
   "id": "b12a8e63",
   "metadata": {},
   "source": [
    "# Library import"
   ]
  },
  {
   "cell_type": "code",
   "execution_count": null,
   "id": "997f72f7",
   "metadata": {},
   "outputs": [],
   "source": [
    "import pandas as pd\n",
    "import numpy as np\n",
    "import matplotlib.pyplot as plt\n",
    "import seaborn as sns"
   ]
  },
  {
   "cell_type": "markdown",
   "id": "d73ff961",
   "metadata": {},
   "source": [
    "# Data import"
   ]
  },
  {
   "cell_type": "code",
   "execution_count": null,
   "id": "948ef7c4",
   "metadata": {},
   "outputs": [],
   "source": [
    "car_df= pd.read_csv('Car_Purchasing_Data.csv', encoding = 'ISO-8859-1')"
   ]
  },
  {
   "cell_type": "code",
   "execution_count": null,
   "id": "d97b9e87",
   "metadata": {},
   "outputs": [],
   "source": [
    "car_df.head(10)"
   ]
  },
  {
   "cell_type": "markdown",
   "id": "fb20ac1e",
   "metadata": {},
   "source": [
    "# Data Visualise"
   ]
  },
  {
   "cell_type": "code",
   "execution_count": null,
   "id": "67a5582c",
   "metadata": {},
   "outputs": [],
   "source": [
    "sns.pairplot(car_df)"
   ]
  },
  {
   "cell_type": "markdown",
   "id": "9150dad5",
   "metadata": {},
   "source": [
    "# Data Cleaning, Testing"
   ]
  },
  {
   "cell_type": "code",
   "execution_count": null,
   "id": "48bf1101",
   "metadata": {},
   "outputs": [],
   "source": [
    "X = car_df.drop(['Customer Name', 'Customer e-mail', 'Country', 'Car Purchase Amount'], axis = 1)"
   ]
  },
  {
   "cell_type": "code",
   "execution_count": null,
   "id": "0d4bb8b6",
   "metadata": {},
   "outputs": [],
   "source": [
    "X"
   ]
  },
  {
   "cell_type": "code",
   "execution_count": null,
   "id": "381a4288",
   "metadata": {},
   "outputs": [],
   "source": [
    "y=car_df['Car Purchase Amount']"
   ]
  },
  {
   "cell_type": "code",
   "execution_count": null,
   "id": "2a9b1961",
   "metadata": {},
   "outputs": [],
   "source": [
    "y"
   ]
  },
  {
   "cell_type": "code",
   "execution_count": null,
   "id": "47dc16f4",
   "metadata": {},
   "outputs": [],
   "source": [
    "from sklearn.preprocessing import MinMaxScaler\n",
    "\n",
    "scaler = MinMaxScaler()\n",
    "X_scaled = scaler.fit_transform(X)"
   ]
  },
  {
   "cell_type": "code",
   "execution_count": null,
   "id": "bbb3cef8",
   "metadata": {},
   "outputs": [],
   "source": [
    "X_scaled"
   ]
  },
  {
   "cell_type": "code",
   "execution_count": null,
   "id": "896a052c",
   "metadata": {},
   "outputs": [],
   "source": [
    "scaler.data_max_"
   ]
  },
  {
   "cell_type": "code",
   "execution_count": null,
   "id": "ba2979e8",
   "metadata": {},
   "outputs": [],
   "source": [
    "scaler.data_min_"
   ]
  },
  {
   "cell_type": "code",
   "execution_count": null,
   "id": "96cc94fa",
   "metadata": {},
   "outputs": [],
   "source": [
    "y=y.values.reshape(-1,1)\n",
    "y_scaled=scaler.fit_transform(y)"
   ]
  },
  {
   "cell_type": "code",
   "execution_count": null,
   "id": "bf2e68ff",
   "metadata": {},
   "outputs": [],
   "source": [
    "y_scaled"
   ]
  },
  {
   "cell_type": "markdown",
   "id": "72942f5f",
   "metadata": {},
   "source": [
    "# Model Training "
   ]
  },
  {
   "cell_type": "code",
   "execution_count": null,
   "id": "1bee8efa",
   "metadata": {},
   "outputs": [],
   "source": [
    "from sklearn.model_selection import train_test_split\n",
    "X_train, X_test, y_train, y_test = train_test_split(X_scaled, y_scaled, test_size = 0.25)"
   ]
  },
  {
   "cell_type": "code",
   "execution_count": null,
   "id": "3dc22215",
   "metadata": {},
   "outputs": [],
   "source": [
    "import tensorflow as tf\n",
    "gpus = tf.config.experimental.list_physical_devices('GPU')\n",
    "for gpu in gpus:\n",
    "    tf.config.experimental.set_memory_growth(gpu, True)\n",
    "    \n",
    "from tensorflow.keras import Model\n",
    "from tensorflow.keras.models import Sequential\n",
    "from tensorflow.keras.layers import Dense, Input, Dropout, Flatten\n",
    "from sklearn.preprocessing import MinMaxScaler\n",
    "\n",
    "model = Sequential()\n",
    "model.add(Dense(25, input_dim=5, activation='relu'))\n",
    "model.add(Dense(25, activation='relu'))\n",
    "model.add(Dense(1, activation='linear'))"
   ]
  },
  {
   "cell_type": "code",
   "execution_count": null,
   "id": "66b85b9f",
   "metadata": {},
   "outputs": [],
   "source": [
    "model.summary()"
   ]
  },
  {
   "cell_type": "code",
   "execution_count": null,
   "id": "174cacfc",
   "metadata": {},
   "outputs": [],
   "source": [
    "model.compile(optimizer='adam',loss='mean_squared_error')"
   ]
  },
  {
   "cell_type": "code",
   "execution_count": null,
   "id": "dc0ea1e4",
   "metadata": {},
   "outputs": [],
   "source": [
    "epochs_hist=model.fit(X_train,y_train,epochs=100,batch_size=25,verbose=1,validation_split=0.2)"
   ]
  },
  {
   "cell_type": "markdown",
   "id": "9db50337",
   "metadata": {},
   "source": [
    "# MODEL EVALUATION"
   ]
  },
  {
   "cell_type": "code",
   "execution_count": null,
   "id": "7b560528",
   "metadata": {},
   "outputs": [],
   "source": [
    "epochs_hist.history.keys()"
   ]
  },
  {
   "cell_type": "code",
   "execution_count": null,
   "id": "9a1db0b4",
   "metadata": {},
   "outputs": [],
   "source": [
    "plt.plot(epochs_hist.history['loss'])\n",
    "plt.plot(epochs_hist.history['val_loss'])\n",
    "plt.title('Model Loss while Training')\n",
    "plt.ylabel('Training and Validation Loss')\n",
    "plt.xlabel('Epoch No.')\n",
    "plt.legend(['Training Loss','Validation Loss'])"
   ]
  },
  {
   "cell_type": "code",
   "execution_count": null,
   "id": "047a9aa1",
   "metadata": {},
   "outputs": [],
   "source": [
    "# Gender,Age,Salary,Credit Card Debt,Net Worth (in US-$)\n",
    "X_test=np.array([[0,45,1000,1500,50000]])\n",
    "y_test=model.predict(X_test)\n"
   ]
  },
  {
   "cell_type": "code",
   "execution_count": null,
   "id": "931dd184",
   "metadata": {},
   "outputs": [],
   "source": [
    "print(\"Expected Purchase Amoount\",y_test)"
   ]
  }
 ],
 "metadata": {
  "kernelspec": {
   "display_name": "Python 3 (ipykernel)",
   "language": "python",
   "name": "python3"
  },
  "language_info": {
   "codemirror_mode": {
    "name": "ipython",
    "version": 3
   },
   "file_extension": ".py",
   "mimetype": "text/x-python",
   "name": "python",
   "nbconvert_exporter": "python",
   "pygments_lexer": "ipython3",
   "version": "3.9.13"
  }
 },
 "nbformat": 4,
 "nbformat_minor": 5
}
